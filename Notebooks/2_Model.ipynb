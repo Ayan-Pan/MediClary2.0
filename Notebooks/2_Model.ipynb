{
 "cells": [
  {
   "cell_type": "markdown",
   "id": "389fe6b5",
   "metadata": {},
   "source": [
    "## <center> <h1>Model selection and Training the Zomato dataset </h1> </center>"
   ]
  },
  {
   "cell_type": "markdown",
   "id": "512ca495",
   "metadata": {},
   "source": [
    "<img src=\"model.png\">"
   ]
  },
  {
   "cell_type": "code",
   "execution_count": 1,
   "id": "79e738d2",
   "metadata": {},
   "outputs": [],
   "source": [
    "import pandas as pd\n",
    "import numpy as np\n",
    "import matplotlib.pyplot as plt\n",
    "import seaborn as sns\n",
    "%matplotlib inline"
   ]
  },
  {
   "cell_type": "code",
   "execution_count": 2,
   "id": "c9e64ee6",
   "metadata": {
    "scrolled": false
   },
   "outputs": [
    {
     "data": {
      "text/html": [
       "<div>\n",
       "<style scoped>\n",
       "    .dataframe tbody tr th:only-of-type {\n",
       "        vertical-align: middle;\n",
       "    }\n",
       "\n",
       "    .dataframe tbody tr th {\n",
       "        vertical-align: top;\n",
       "    }\n",
       "\n",
       "    .dataframe thead th {\n",
       "        text-align: right;\n",
       "    }\n",
       "</style>\n",
       "<table border=\"1\" class=\"dataframe\">\n",
       "  <thead>\n",
       "    <tr style=\"text-align: right;\">\n",
       "      <th></th>\n",
       "      <th>Unnamed: 0</th>\n",
       "      <th>Restaurant ID</th>\n",
       "      <th>Restaurant Name</th>\n",
       "      <th>Country Code</th>\n",
       "      <th>City</th>\n",
       "      <th>Address</th>\n",
       "      <th>Locality</th>\n",
       "      <th>Locality Verbose</th>\n",
       "      <th>Longitude</th>\n",
       "      <th>Latitude</th>\n",
       "      <th>...</th>\n",
       "      <th>Has Table booking</th>\n",
       "      <th>Has Online delivery</th>\n",
       "      <th>Is delivering now</th>\n",
       "      <th>Switch to order menu</th>\n",
       "      <th>Price range</th>\n",
       "      <th>Aggregate rating</th>\n",
       "      <th>Rating color</th>\n",
       "      <th>Rating text</th>\n",
       "      <th>Votes</th>\n",
       "      <th>Country</th>\n",
       "    </tr>\n",
       "  </thead>\n",
       "  <tbody>\n",
       "    <tr>\n",
       "      <th>0</th>\n",
       "      <td>0</td>\n",
       "      <td>6317637</td>\n",
       "      <td>Le Petit Souffle</td>\n",
       "      <td>162</td>\n",
       "      <td>Makati City</td>\n",
       "      <td>Third Floor, Century City Mall, Kalayaan Avenu...</td>\n",
       "      <td>Century City Mall, Poblacion, Makati City</td>\n",
       "      <td>Century City Mall, Poblacion, Makati City, Mak...</td>\n",
       "      <td>121.027535</td>\n",
       "      <td>14.565443</td>\n",
       "      <td>...</td>\n",
       "      <td>Yes</td>\n",
       "      <td>No</td>\n",
       "      <td>No</td>\n",
       "      <td>No</td>\n",
       "      <td>3</td>\n",
       "      <td>4.8</td>\n",
       "      <td>Dark Green</td>\n",
       "      <td>Excellent</td>\n",
       "      <td>314</td>\n",
       "      <td>Phillipines</td>\n",
       "    </tr>\n",
       "    <tr>\n",
       "      <th>1</th>\n",
       "      <td>1</td>\n",
       "      <td>6304287</td>\n",
       "      <td>Izakaya Kikufuji</td>\n",
       "      <td>162</td>\n",
       "      <td>Makati City</td>\n",
       "      <td>Little Tokyo, 2277 Chino Roces Avenue, Legaspi...</td>\n",
       "      <td>Little Tokyo, Legaspi Village, Makati City</td>\n",
       "      <td>Little Tokyo, Legaspi Village, Makati City, Ma...</td>\n",
       "      <td>121.014101</td>\n",
       "      <td>14.553708</td>\n",
       "      <td>...</td>\n",
       "      <td>Yes</td>\n",
       "      <td>No</td>\n",
       "      <td>No</td>\n",
       "      <td>No</td>\n",
       "      <td>3</td>\n",
       "      <td>4.5</td>\n",
       "      <td>Dark Green</td>\n",
       "      <td>Excellent</td>\n",
       "      <td>591</td>\n",
       "      <td>Phillipines</td>\n",
       "    </tr>\n",
       "    <tr>\n",
       "      <th>2</th>\n",
       "      <td>2</td>\n",
       "      <td>6300002</td>\n",
       "      <td>Heat - Edsa Shangri-La</td>\n",
       "      <td>162</td>\n",
       "      <td>Mandaluyong City</td>\n",
       "      <td>Edsa Shangri-La, 1 Garden Way, Ortigas, Mandal...</td>\n",
       "      <td>Edsa Shangri-La, Ortigas, Mandaluyong City</td>\n",
       "      <td>Edsa Shangri-La, Ortigas, Mandaluyong City, Ma...</td>\n",
       "      <td>121.056831</td>\n",
       "      <td>14.581404</td>\n",
       "      <td>...</td>\n",
       "      <td>Yes</td>\n",
       "      <td>No</td>\n",
       "      <td>No</td>\n",
       "      <td>No</td>\n",
       "      <td>4</td>\n",
       "      <td>4.4</td>\n",
       "      <td>Green</td>\n",
       "      <td>Very Good</td>\n",
       "      <td>270</td>\n",
       "      <td>Phillipines</td>\n",
       "    </tr>\n",
       "    <tr>\n",
       "      <th>3</th>\n",
       "      <td>3</td>\n",
       "      <td>6318506</td>\n",
       "      <td>Ooma</td>\n",
       "      <td>162</td>\n",
       "      <td>Mandaluyong City</td>\n",
       "      <td>Third Floor, Mega Fashion Hall, SM Megamall, O...</td>\n",
       "      <td>SM Megamall, Ortigas, Mandaluyong City</td>\n",
       "      <td>SM Megamall, Ortigas, Mandaluyong City, Mandal...</td>\n",
       "      <td>121.056475</td>\n",
       "      <td>14.585318</td>\n",
       "      <td>...</td>\n",
       "      <td>No</td>\n",
       "      <td>No</td>\n",
       "      <td>No</td>\n",
       "      <td>No</td>\n",
       "      <td>4</td>\n",
       "      <td>4.9</td>\n",
       "      <td>Dark Green</td>\n",
       "      <td>Excellent</td>\n",
       "      <td>365</td>\n",
       "      <td>Phillipines</td>\n",
       "    </tr>\n",
       "    <tr>\n",
       "      <th>4</th>\n",
       "      <td>4</td>\n",
       "      <td>6314302</td>\n",
       "      <td>Sambo Kojin</td>\n",
       "      <td>162</td>\n",
       "      <td>Mandaluyong City</td>\n",
       "      <td>Third Floor, Mega Atrium, SM Megamall, Ortigas...</td>\n",
       "      <td>SM Megamall, Ortigas, Mandaluyong City</td>\n",
       "      <td>SM Megamall, Ortigas, Mandaluyong City, Mandal...</td>\n",
       "      <td>121.057508</td>\n",
       "      <td>14.584450</td>\n",
       "      <td>...</td>\n",
       "      <td>Yes</td>\n",
       "      <td>No</td>\n",
       "      <td>No</td>\n",
       "      <td>No</td>\n",
       "      <td>4</td>\n",
       "      <td>4.8</td>\n",
       "      <td>Dark Green</td>\n",
       "      <td>Excellent</td>\n",
       "      <td>229</td>\n",
       "      <td>Phillipines</td>\n",
       "    </tr>\n",
       "  </tbody>\n",
       "</table>\n",
       "<p>5 rows × 23 columns</p>\n",
       "</div>"
      ],
      "text/plain": [
       "   Unnamed: 0  Restaurant ID         Restaurant Name  Country Code  \\\n",
       "0           0        6317637        Le Petit Souffle           162   \n",
       "1           1        6304287        Izakaya Kikufuji           162   \n",
       "2           2        6300002  Heat - Edsa Shangri-La           162   \n",
       "3           3        6318506                    Ooma           162   \n",
       "4           4        6314302             Sambo Kojin           162   \n",
       "\n",
       "               City                                            Address  \\\n",
       "0       Makati City  Third Floor, Century City Mall, Kalayaan Avenu...   \n",
       "1       Makati City  Little Tokyo, 2277 Chino Roces Avenue, Legaspi...   \n",
       "2  Mandaluyong City  Edsa Shangri-La, 1 Garden Way, Ortigas, Mandal...   \n",
       "3  Mandaluyong City  Third Floor, Mega Fashion Hall, SM Megamall, O...   \n",
       "4  Mandaluyong City  Third Floor, Mega Atrium, SM Megamall, Ortigas...   \n",
       "\n",
       "                                     Locality  \\\n",
       "0   Century City Mall, Poblacion, Makati City   \n",
       "1  Little Tokyo, Legaspi Village, Makati City   \n",
       "2  Edsa Shangri-La, Ortigas, Mandaluyong City   \n",
       "3      SM Megamall, Ortigas, Mandaluyong City   \n",
       "4      SM Megamall, Ortigas, Mandaluyong City   \n",
       "\n",
       "                                    Locality Verbose   Longitude   Latitude  \\\n",
       "0  Century City Mall, Poblacion, Makati City, Mak...  121.027535  14.565443   \n",
       "1  Little Tokyo, Legaspi Village, Makati City, Ma...  121.014101  14.553708   \n",
       "2  Edsa Shangri-La, Ortigas, Mandaluyong City, Ma...  121.056831  14.581404   \n",
       "3  SM Megamall, Ortigas, Mandaluyong City, Mandal...  121.056475  14.585318   \n",
       "4  SM Megamall, Ortigas, Mandaluyong City, Mandal...  121.057508  14.584450   \n",
       "\n",
       "   ... Has Table booking  Has Online delivery Is delivering now  \\\n",
       "0  ...               Yes                   No                No   \n",
       "1  ...               Yes                   No                No   \n",
       "2  ...               Yes                   No                No   \n",
       "3  ...                No                   No                No   \n",
       "4  ...               Yes                   No                No   \n",
       "\n",
       "  Switch to order menu Price range Aggregate rating Rating color  Rating text  \\\n",
       "0                   No           3              4.8   Dark Green    Excellent   \n",
       "1                   No           3              4.5   Dark Green    Excellent   \n",
       "2                   No           4              4.4        Green    Very Good   \n",
       "3                   No           4              4.9   Dark Green    Excellent   \n",
       "4                   No           4              4.8   Dark Green    Excellent   \n",
       "\n",
       "   Votes      Country  \n",
       "0    314  Phillipines  \n",
       "1    591  Phillipines  \n",
       "2    270  Phillipines  \n",
       "3    365  Phillipines  \n",
       "4    229  Phillipines  \n",
       "\n",
       "[5 rows x 23 columns]"
      ]
     },
     "execution_count": 2,
     "metadata": {},
     "output_type": "execute_result"
    }
   ],
   "source": [
    "new_df=pd.read_csv('zomato_new.csv',encoding='latin-1')\n",
    "new_df.head()"
   ]
  },
  {
   "cell_type": "markdown",
   "id": "d8c96b21",
   "metadata": {},
   "source": [
    "# <br>Problem with cuisines"
   ]
  },
  {
   "cell_type": "code",
   "execution_count": 3,
   "id": "b5de0fcc",
   "metadata": {},
   "outputs": [
    {
     "data": {
      "text/plain": [
       "7255                         Fast Food\n",
       "6031    North Indian, Mughlai, Chinese\n",
       "6157                      North Indian\n",
       "2879                         Fast Food\n",
       "9533                     Turkish Pizza\n",
       "Name: Cuisines, dtype: object"
      ]
     },
     "execution_count": 3,
     "metadata": {},
     "output_type": "execute_result"
    }
   ],
   "source": [
    "new_df['Cuisines'].sample(5)"
   ]
  },
  {
   "cell_type": "code",
   "execution_count": 4,
   "id": "092e501e",
   "metadata": {},
   "outputs": [
    {
     "data": {
      "text/plain": [
       "1826"
      ]
     },
     "execution_count": 4,
     "metadata": {},
     "output_type": "execute_result"
    }
   ],
   "source": [
    "len(new_df['Cuisines'].unique())"
   ]
  },
  {
   "cell_type": "code",
   "execution_count": 5,
   "id": "e0a60ce0",
   "metadata": {},
   "outputs": [
    {
     "data": {
      "text/plain": [
       "(9551, 250)"
      ]
     },
     "execution_count": 5,
     "metadata": {},
     "output_type": "execute_result"
    }
   ],
   "source": [
    "new_df['Cuisines'].str.get_dummies(sep=',').shape"
   ]
  },
  {
   "cell_type": "code",
   "execution_count": 6,
   "id": "ce211c49",
   "metadata": {},
   "outputs": [
    {
     "data": {
      "text/plain": [
       "dtype('O')"
      ]
     },
     "execution_count": 6,
     "metadata": {},
     "output_type": "execute_result"
    }
   ],
   "source": [
    "new_df[\"Cuisines\"]=new_df[\"Cuisines\"].values.astype(str)\n",
    "new_df[\"Cuisines\"].dtype"
   ]
  },
  {
   "cell_type": "code",
   "execution_count": 7,
   "id": "fc9207bd",
   "metadata": {
    "scrolled": true
   },
   "outputs": [
    {
     "data": {
      "text/html": [
       "<div>\n",
       "<style scoped>\n",
       "    .dataframe tbody tr th:only-of-type {\n",
       "        vertical-align: middle;\n",
       "    }\n",
       "\n",
       "    .dataframe tbody tr th {\n",
       "        vertical-align: top;\n",
       "    }\n",
       "\n",
       "    .dataframe thead th {\n",
       "        text-align: right;\n",
       "    }\n",
       "</style>\n",
       "<table border=\"1\" class=\"dataframe\">\n",
       "  <thead>\n",
       "    <tr style=\"text-align: right;\">\n",
       "      <th></th>\n",
       "      <th>Unnamed: 0</th>\n",
       "      <th>Restaurant ID</th>\n",
       "      <th>Restaurant Name</th>\n",
       "      <th>Country Code</th>\n",
       "      <th>City</th>\n",
       "      <th>Address</th>\n",
       "      <th>Locality</th>\n",
       "      <th>Locality Verbose</th>\n",
       "      <th>Longitude</th>\n",
       "      <th>Latitude</th>\n",
       "      <th>...</th>\n",
       "      <th>Has Online delivery</th>\n",
       "      <th>Is delivering now</th>\n",
       "      <th>Switch to order menu</th>\n",
       "      <th>Price range</th>\n",
       "      <th>Aggregate rating</th>\n",
       "      <th>Rating color</th>\n",
       "      <th>Rating text</th>\n",
       "      <th>Votes</th>\n",
       "      <th>Country</th>\n",
       "      <th>Total_Cuisines</th>\n",
       "    </tr>\n",
       "  </thead>\n",
       "  <tbody>\n",
       "    <tr>\n",
       "      <th>0</th>\n",
       "      <td>0</td>\n",
       "      <td>6317637</td>\n",
       "      <td>Le Petit Souffle</td>\n",
       "      <td>162</td>\n",
       "      <td>Makati City</td>\n",
       "      <td>Third Floor, Century City Mall, Kalayaan Avenu...</td>\n",
       "      <td>Century City Mall, Poblacion, Makati City</td>\n",
       "      <td>Century City Mall, Poblacion, Makati City, Mak...</td>\n",
       "      <td>121.027535</td>\n",
       "      <td>14.565443</td>\n",
       "      <td>...</td>\n",
       "      <td>No</td>\n",
       "      <td>No</td>\n",
       "      <td>No</td>\n",
       "      <td>3</td>\n",
       "      <td>4.8</td>\n",
       "      <td>Dark Green</td>\n",
       "      <td>Excellent</td>\n",
       "      <td>314</td>\n",
       "      <td>Phillipines</td>\n",
       "      <td>3</td>\n",
       "    </tr>\n",
       "    <tr>\n",
       "      <th>1</th>\n",
       "      <td>1</td>\n",
       "      <td>6304287</td>\n",
       "      <td>Izakaya Kikufuji</td>\n",
       "      <td>162</td>\n",
       "      <td>Makati City</td>\n",
       "      <td>Little Tokyo, 2277 Chino Roces Avenue, Legaspi...</td>\n",
       "      <td>Little Tokyo, Legaspi Village, Makati City</td>\n",
       "      <td>Little Tokyo, Legaspi Village, Makati City, Ma...</td>\n",
       "      <td>121.014101</td>\n",
       "      <td>14.553708</td>\n",
       "      <td>...</td>\n",
       "      <td>No</td>\n",
       "      <td>No</td>\n",
       "      <td>No</td>\n",
       "      <td>3</td>\n",
       "      <td>4.5</td>\n",
       "      <td>Dark Green</td>\n",
       "      <td>Excellent</td>\n",
       "      <td>591</td>\n",
       "      <td>Phillipines</td>\n",
       "      <td>1</td>\n",
       "    </tr>\n",
       "    <tr>\n",
       "      <th>2</th>\n",
       "      <td>2</td>\n",
       "      <td>6300002</td>\n",
       "      <td>Heat - Edsa Shangri-La</td>\n",
       "      <td>162</td>\n",
       "      <td>Mandaluyong City</td>\n",
       "      <td>Edsa Shangri-La, 1 Garden Way, Ortigas, Mandal...</td>\n",
       "      <td>Edsa Shangri-La, Ortigas, Mandaluyong City</td>\n",
       "      <td>Edsa Shangri-La, Ortigas, Mandaluyong City, Ma...</td>\n",
       "      <td>121.056831</td>\n",
       "      <td>14.581404</td>\n",
       "      <td>...</td>\n",
       "      <td>No</td>\n",
       "      <td>No</td>\n",
       "      <td>No</td>\n",
       "      <td>4</td>\n",
       "      <td>4.4</td>\n",
       "      <td>Green</td>\n",
       "      <td>Very Good</td>\n",
       "      <td>270</td>\n",
       "      <td>Phillipines</td>\n",
       "      <td>4</td>\n",
       "    </tr>\n",
       "    <tr>\n",
       "      <th>3</th>\n",
       "      <td>3</td>\n",
       "      <td>6318506</td>\n",
       "      <td>Ooma</td>\n",
       "      <td>162</td>\n",
       "      <td>Mandaluyong City</td>\n",
       "      <td>Third Floor, Mega Fashion Hall, SM Megamall, O...</td>\n",
       "      <td>SM Megamall, Ortigas, Mandaluyong City</td>\n",
       "      <td>SM Megamall, Ortigas, Mandaluyong City, Mandal...</td>\n",
       "      <td>121.056475</td>\n",
       "      <td>14.585318</td>\n",
       "      <td>...</td>\n",
       "      <td>No</td>\n",
       "      <td>No</td>\n",
       "      <td>No</td>\n",
       "      <td>4</td>\n",
       "      <td>4.9</td>\n",
       "      <td>Dark Green</td>\n",
       "      <td>Excellent</td>\n",
       "      <td>365</td>\n",
       "      <td>Phillipines</td>\n",
       "      <td>2</td>\n",
       "    </tr>\n",
       "    <tr>\n",
       "      <th>4</th>\n",
       "      <td>4</td>\n",
       "      <td>6314302</td>\n",
       "      <td>Sambo Kojin</td>\n",
       "      <td>162</td>\n",
       "      <td>Mandaluyong City</td>\n",
       "      <td>Third Floor, Mega Atrium, SM Megamall, Ortigas...</td>\n",
       "      <td>SM Megamall, Ortigas, Mandaluyong City</td>\n",
       "      <td>SM Megamall, Ortigas, Mandaluyong City, Mandal...</td>\n",
       "      <td>121.057508</td>\n",
       "      <td>14.584450</td>\n",
       "      <td>...</td>\n",
       "      <td>No</td>\n",
       "      <td>No</td>\n",
       "      <td>No</td>\n",
       "      <td>4</td>\n",
       "      <td>4.8</td>\n",
       "      <td>Dark Green</td>\n",
       "      <td>Excellent</td>\n",
       "      <td>229</td>\n",
       "      <td>Phillipines</td>\n",
       "      <td>2</td>\n",
       "    </tr>\n",
       "  </tbody>\n",
       "</table>\n",
       "<p>5 rows × 24 columns</p>\n",
       "</div>"
      ],
      "text/plain": [
       "   Unnamed: 0  Restaurant ID         Restaurant Name  Country Code  \\\n",
       "0           0        6317637        Le Petit Souffle           162   \n",
       "1           1        6304287        Izakaya Kikufuji           162   \n",
       "2           2        6300002  Heat - Edsa Shangri-La           162   \n",
       "3           3        6318506                    Ooma           162   \n",
       "4           4        6314302             Sambo Kojin           162   \n",
       "\n",
       "               City                                            Address  \\\n",
       "0       Makati City  Third Floor, Century City Mall, Kalayaan Avenu...   \n",
       "1       Makati City  Little Tokyo, 2277 Chino Roces Avenue, Legaspi...   \n",
       "2  Mandaluyong City  Edsa Shangri-La, 1 Garden Way, Ortigas, Mandal...   \n",
       "3  Mandaluyong City  Third Floor, Mega Fashion Hall, SM Megamall, O...   \n",
       "4  Mandaluyong City  Third Floor, Mega Atrium, SM Megamall, Ortigas...   \n",
       "\n",
       "                                     Locality  \\\n",
       "0   Century City Mall, Poblacion, Makati City   \n",
       "1  Little Tokyo, Legaspi Village, Makati City   \n",
       "2  Edsa Shangri-La, Ortigas, Mandaluyong City   \n",
       "3      SM Megamall, Ortigas, Mandaluyong City   \n",
       "4      SM Megamall, Ortigas, Mandaluyong City   \n",
       "\n",
       "                                    Locality Verbose   Longitude   Latitude  \\\n",
       "0  Century City Mall, Poblacion, Makati City, Mak...  121.027535  14.565443   \n",
       "1  Little Tokyo, Legaspi Village, Makati City, Ma...  121.014101  14.553708   \n",
       "2  Edsa Shangri-La, Ortigas, Mandaluyong City, Ma...  121.056831  14.581404   \n",
       "3  SM Megamall, Ortigas, Mandaluyong City, Mandal...  121.056475  14.585318   \n",
       "4  SM Megamall, Ortigas, Mandaluyong City, Mandal...  121.057508  14.584450   \n",
       "\n",
       "   ... Has Online delivery  Is delivering now Switch to order menu  \\\n",
       "0  ...                  No                 No                   No   \n",
       "1  ...                  No                 No                   No   \n",
       "2  ...                  No                 No                   No   \n",
       "3  ...                  No                 No                   No   \n",
       "4  ...                  No                 No                   No   \n",
       "\n",
       "  Price range Aggregate rating Rating color Rating text  Votes      Country  \\\n",
       "0           3              4.8   Dark Green   Excellent    314  Phillipines   \n",
       "1           3              4.5   Dark Green   Excellent    591  Phillipines   \n",
       "2           4              4.4        Green   Very Good    270  Phillipines   \n",
       "3           4              4.9   Dark Green   Excellent    365  Phillipines   \n",
       "4           4              4.8   Dark Green   Excellent    229  Phillipines   \n",
       "\n",
       "  Total_Cuisines  \n",
       "0              3  \n",
       "1              1  \n",
       "2              4  \n",
       "3              2  \n",
       "4              2  \n",
       "\n",
       "[5 rows x 24 columns]"
      ]
     },
     "execution_count": 7,
     "metadata": {},
     "output_type": "execute_result"
    }
   ],
   "source": [
    "new_df['Total_Cuisines'] = new_df.Cuisines.map(lambda x: len([i.strip() for i in x.split(\",\")]))\n",
    "new_df.head()"
   ]
  },
  {
   "cell_type": "code",
   "execution_count": 8,
   "id": "e8a54b8f",
   "metadata": {
    "scrolled": true
   },
   "outputs": [
    {
     "data": {
      "text/plain": [
       "array(['Makati City', 'Mandaluyong City', 'Pasay City', 'Pasig City',\n",
       "       'Quezon City', 'San Juan City', 'Santa Rosa', 'Tagaytay City',\n",
       "       'Taguig City', 'BrasÃ\\xad_lia', 'Rio de Janeiro',\n",
       "       'SÃ\\xadÂ£o Paulo', 'Albany', 'Armidale', 'Athens', 'Augusta',\n",
       "       'Balingup', 'Beechworth', 'Boise', 'Cedar Rapids/Iowa City',\n",
       "       'Chatham-Kent', 'Clatskanie', 'Cochrane', 'Columbus', 'Consort',\n",
       "       'Dalton', 'Davenport', 'Des Moines', 'Dicky Beach', 'Dubuque',\n",
       "       'East Ballina', 'Fernley', 'Flaxton', 'Forrest', 'Gainesville',\n",
       "       'Hepburn Springs', 'Huskisson', 'Inverloch', 'Lakes Entrance',\n",
       "       'Lakeview', 'Lincoln', 'Lorn', 'Macedon', 'Macon', 'Mayfield',\n",
       "       'Mc Millan', 'Middleton Beach', 'Miller', 'Monroe', 'Montville',\n",
       "       'Ojo Caliente', 'Orlando', 'Palm Cove', 'Paynesville', 'Penola',\n",
       "       'Pensacola', 'Phillip Island', 'Pocatello', 'Potrero', 'Princeton',\n",
       "       'Rest of Hawaii', 'Savannah', 'Singapore', 'Sioux City',\n",
       "       'Tampa Bay', 'Tanunda', 'Trentham East', 'Valdosta', 'Vernonia',\n",
       "       'Victor Harbor', 'Vineland Station', 'Waterloo', 'Weirton',\n",
       "       'Winchester Bay', 'Yorkton', 'Abu Dhabi', 'Dubai', 'Sharjah',\n",
       "       'Agra', 'Ahmedabad', 'Allahabad', 'Amritsar', 'Aurangabad',\n",
       "       'Bangalore', 'Bhopal', 'Bhubaneshwar', 'Chandigarh', 'Chennai',\n",
       "       'Coimbatore', 'Dehradun', 'Faridabad', 'Ghaziabad', 'Goa',\n",
       "       'Gurgaon', 'Guwahati', 'Hyderabad', 'Indore', 'Jaipur', 'Kanpur',\n",
       "       'Kochi', 'Kolkata', 'Lucknow', 'Ludhiana', 'Mangalore', 'Mohali',\n",
       "       'Mumbai', 'Mysore', 'Nagpur', 'Nashik', 'New Delhi', 'Noida',\n",
       "       'Panchkula', 'Patna', 'Puducherry', 'Pune', 'Ranchi',\n",
       "       'Secunderabad', 'Surat', 'Vadodara', 'Varanasi', 'Vizag',\n",
       "       'Bandung', 'Bogor', 'Jakarta', 'Tangerang', 'Auckland',\n",
       "       'Wellington City', 'Birmingham', 'Edinburgh', 'London',\n",
       "       'Manchester', 'Doha', 'Cape Town', 'Inner City', 'Johannesburg',\n",
       "       'Pretoria', 'Randburg', 'Sandton', 'Colombo', 'Ankara',\n",
       "       'Ã\\x9bÃ\\x81stanbul'], dtype=object)"
      ]
     },
     "execution_count": 8,
     "metadata": {},
     "output_type": "execute_result"
    }
   ],
   "source": [
    "new_df.City.unique()"
   ]
  },
  {
   "cell_type": "code",
   "execution_count": 11,
   "id": "1a879363",
   "metadata": {},
   "outputs": [
    {
     "data": {
      "text/plain": [
       "141"
      ]
     },
     "execution_count": 11,
     "metadata": {},
     "output_type": "execute_result"
    }
   ],
   "source": [
    "len(new_df.City.unique())"
   ]
  },
  {
   "cell_type": "markdown",
   "id": "d2069fa3",
   "metadata": {},
   "source": [
    "Number of cities is very high. So to create dummy variables for all cities will be compuationally very expensive. So we will skip it."
   ]
  },
  {
   "cell_type": "code",
   "execution_count": 9,
   "id": "17152584",
   "metadata": {
    "scrolled": true
   },
   "outputs": [
    {
     "data": {
      "text/plain": [
       "15"
      ]
     },
     "execution_count": 9,
     "metadata": {},
     "output_type": "execute_result"
    }
   ],
   "source": [
    "len(new_df['Country'].unique())"
   ]
  },
  {
   "cell_type": "code",
   "execution_count": 10,
   "id": "1abf9462",
   "metadata": {},
   "outputs": [
    {
     "data": {
      "text/plain": [
       "12"
      ]
     },
     "execution_count": 10,
     "metadata": {},
     "output_type": "execute_result"
    }
   ],
   "source": [
    "len(new_df['Currency'].unique())"
   ]
  },
  {
   "cell_type": "markdown",
   "id": "02e694f0",
   "metadata": {},
   "source": [
    "Unlike citites number of Country and Currency values are very less. So we will create dummy variables for athis two features."
   ]
  },
  {
   "cell_type": "markdown",
   "id": "06fbe4d2",
   "metadata": {},
   "source": [
    "# <br>Final subset of attributes for training"
   ]
  },
  {
   "cell_type": "code",
   "execution_count": 11,
   "id": "8c4289f9",
   "metadata": {},
   "outputs": [
    {
     "data": {
      "text/html": [
       "<div>\n",
       "<style scoped>\n",
       "    .dataframe tbody tr th:only-of-type {\n",
       "        vertical-align: middle;\n",
       "    }\n",
       "\n",
       "    .dataframe tbody tr th {\n",
       "        vertical-align: top;\n",
       "    }\n",
       "\n",
       "    .dataframe thead th {\n",
       "        text-align: right;\n",
       "    }\n",
       "</style>\n",
       "<table border=\"1\" class=\"dataframe\">\n",
       "  <thead>\n",
       "    <tr style=\"text-align: right;\">\n",
       "      <th></th>\n",
       "      <th>Country</th>\n",
       "      <th>Average Cost for two</th>\n",
       "      <th>Currency</th>\n",
       "      <th>Total_Cuisines</th>\n",
       "      <th>Has Table booking</th>\n",
       "      <th>Has Online delivery</th>\n",
       "      <th>Price range</th>\n",
       "      <th>Votes</th>\n",
       "      <th>Aggregate rating</th>\n",
       "    </tr>\n",
       "  </thead>\n",
       "  <tbody>\n",
       "    <tr>\n",
       "      <th>0</th>\n",
       "      <td>Phillipines</td>\n",
       "      <td>1100</td>\n",
       "      <td>Botswana Pula(P)</td>\n",
       "      <td>3</td>\n",
       "      <td>Yes</td>\n",
       "      <td>No</td>\n",
       "      <td>3</td>\n",
       "      <td>314</td>\n",
       "      <td>4.8</td>\n",
       "    </tr>\n",
       "    <tr>\n",
       "      <th>1</th>\n",
       "      <td>Phillipines</td>\n",
       "      <td>1200</td>\n",
       "      <td>Botswana Pula(P)</td>\n",
       "      <td>1</td>\n",
       "      <td>Yes</td>\n",
       "      <td>No</td>\n",
       "      <td>3</td>\n",
       "      <td>591</td>\n",
       "      <td>4.5</td>\n",
       "    </tr>\n",
       "    <tr>\n",
       "      <th>2</th>\n",
       "      <td>Phillipines</td>\n",
       "      <td>4000</td>\n",
       "      <td>Botswana Pula(P)</td>\n",
       "      <td>4</td>\n",
       "      <td>Yes</td>\n",
       "      <td>No</td>\n",
       "      <td>4</td>\n",
       "      <td>270</td>\n",
       "      <td>4.4</td>\n",
       "    </tr>\n",
       "    <tr>\n",
       "      <th>3</th>\n",
       "      <td>Phillipines</td>\n",
       "      <td>1500</td>\n",
       "      <td>Botswana Pula(P)</td>\n",
       "      <td>2</td>\n",
       "      <td>No</td>\n",
       "      <td>No</td>\n",
       "      <td>4</td>\n",
       "      <td>365</td>\n",
       "      <td>4.9</td>\n",
       "    </tr>\n",
       "    <tr>\n",
       "      <th>4</th>\n",
       "      <td>Phillipines</td>\n",
       "      <td>1500</td>\n",
       "      <td>Botswana Pula(P)</td>\n",
       "      <td>2</td>\n",
       "      <td>Yes</td>\n",
       "      <td>No</td>\n",
       "      <td>4</td>\n",
       "      <td>229</td>\n",
       "      <td>4.8</td>\n",
       "    </tr>\n",
       "  </tbody>\n",
       "</table>\n",
       "</div>"
      ],
      "text/plain": [
       "       Country  Average Cost for two          Currency  Total_Cuisines  \\\n",
       "0  Phillipines                  1100  Botswana Pula(P)               3   \n",
       "1  Phillipines                  1200  Botswana Pula(P)               1   \n",
       "2  Phillipines                  4000  Botswana Pula(P)               4   \n",
       "3  Phillipines                  1500  Botswana Pula(P)               2   \n",
       "4  Phillipines                  1500  Botswana Pula(P)               2   \n",
       "\n",
       "  Has Table booking Has Online delivery  Price range  Votes  Aggregate rating  \n",
       "0               Yes                  No            3    314               4.8  \n",
       "1               Yes                  No            3    591               4.5  \n",
       "2               Yes                  No            4    270               4.4  \n",
       "3                No                  No            4    365               4.9  \n",
       "4               Yes                  No            4    229               4.8  "
      ]
     },
     "execution_count": 11,
     "metadata": {},
     "output_type": "execute_result"
    }
   ],
   "source": [
    "final_df = new_df[['Country', 'Average Cost for two', 'Currency','Total_Cuisines', 'Has Table booking',\n",
    "       'Has Online delivery','Price range', 'Votes', 'Aggregate rating']]\n",
    "final_df.head()"
   ]
  },
  {
   "cell_type": "code",
   "execution_count": 12,
   "id": "9ed12093",
   "metadata": {},
   "outputs": [
    {
     "data": {
      "text/plain": [
       "(9551, 9)"
      ]
     },
     "execution_count": 12,
     "metadata": {},
     "output_type": "execute_result"
    }
   ],
   "source": [
    "final_df.shape"
   ]
  },
  {
   "cell_type": "markdown",
   "id": "9a6c9ec9",
   "metadata": {},
   "source": [
    "# Creating dummy variables for Country and Currency"
   ]
  },
  {
   "cell_type": "markdown",
   "id": "ad82a2ad",
   "metadata": {},
   "source": [
    "<img src=\"dummy2.jpg\" width=\"600\">"
   ]
  },
  {
   "cell_type": "code",
   "execution_count": 13,
   "id": "2c47ee0f",
   "metadata": {},
   "outputs": [
    {
     "data": {
      "text/html": [
       "<div>\n",
       "<style scoped>\n",
       "    .dataframe tbody tr th:only-of-type {\n",
       "        vertical-align: middle;\n",
       "    }\n",
       "\n",
       "    .dataframe tbody tr th {\n",
       "        vertical-align: top;\n",
       "    }\n",
       "\n",
       "    .dataframe thead th {\n",
       "        text-align: right;\n",
       "    }\n",
       "</style>\n",
       "<table border=\"1\" class=\"dataframe\">\n",
       "  <thead>\n",
       "    <tr style=\"text-align: right;\">\n",
       "      <th></th>\n",
       "      <th>Country_Australia</th>\n",
       "      <th>Country_Brazil</th>\n",
       "      <th>Country_Canada</th>\n",
       "      <th>Country_India</th>\n",
       "      <th>Country_Indonesia</th>\n",
       "      <th>Country_New Zealand</th>\n",
       "      <th>Country_Phillipines</th>\n",
       "      <th>Country_Qatar</th>\n",
       "      <th>Country_Singapore</th>\n",
       "      <th>Country_South Africa</th>\n",
       "      <th>...</th>\n",
       "      <th>Currency_Dollar($)</th>\n",
       "      <th>Currency_Emirati Diram(AED)</th>\n",
       "      <th>Currency_Indian Rupees(Rs.)</th>\n",
       "      <th>Currency_Indonesian Rupiah(IDR)</th>\n",
       "      <th>Currency_NewZealand($)</th>\n",
       "      <th>Currency_Pounds(ÂÂ£)</th>\n",
       "      <th>Currency_Qatari Rial(QR)</th>\n",
       "      <th>Currency_Rand(R)</th>\n",
       "      <th>Currency_Sri Lankan Rupee(LKR)</th>\n",
       "      <th>Currency_Turkish Lira(TL)</th>\n",
       "    </tr>\n",
       "  </thead>\n",
       "  <tbody>\n",
       "    <tr>\n",
       "      <th>0</th>\n",
       "      <td>0</td>\n",
       "      <td>0</td>\n",
       "      <td>0</td>\n",
       "      <td>0</td>\n",
       "      <td>0</td>\n",
       "      <td>0</td>\n",
       "      <td>1</td>\n",
       "      <td>0</td>\n",
       "      <td>0</td>\n",
       "      <td>0</td>\n",
       "      <td>...</td>\n",
       "      <td>0</td>\n",
       "      <td>0</td>\n",
       "      <td>0</td>\n",
       "      <td>0</td>\n",
       "      <td>0</td>\n",
       "      <td>0</td>\n",
       "      <td>0</td>\n",
       "      <td>0</td>\n",
       "      <td>0</td>\n",
       "      <td>0</td>\n",
       "    </tr>\n",
       "    <tr>\n",
       "      <th>1</th>\n",
       "      <td>0</td>\n",
       "      <td>0</td>\n",
       "      <td>0</td>\n",
       "      <td>0</td>\n",
       "      <td>0</td>\n",
       "      <td>0</td>\n",
       "      <td>1</td>\n",
       "      <td>0</td>\n",
       "      <td>0</td>\n",
       "      <td>0</td>\n",
       "      <td>...</td>\n",
       "      <td>0</td>\n",
       "      <td>0</td>\n",
       "      <td>0</td>\n",
       "      <td>0</td>\n",
       "      <td>0</td>\n",
       "      <td>0</td>\n",
       "      <td>0</td>\n",
       "      <td>0</td>\n",
       "      <td>0</td>\n",
       "      <td>0</td>\n",
       "    </tr>\n",
       "    <tr>\n",
       "      <th>2</th>\n",
       "      <td>0</td>\n",
       "      <td>0</td>\n",
       "      <td>0</td>\n",
       "      <td>0</td>\n",
       "      <td>0</td>\n",
       "      <td>0</td>\n",
       "      <td>1</td>\n",
       "      <td>0</td>\n",
       "      <td>0</td>\n",
       "      <td>0</td>\n",
       "      <td>...</td>\n",
       "      <td>0</td>\n",
       "      <td>0</td>\n",
       "      <td>0</td>\n",
       "      <td>0</td>\n",
       "      <td>0</td>\n",
       "      <td>0</td>\n",
       "      <td>0</td>\n",
       "      <td>0</td>\n",
       "      <td>0</td>\n",
       "      <td>0</td>\n",
       "    </tr>\n",
       "    <tr>\n",
       "      <th>3</th>\n",
       "      <td>0</td>\n",
       "      <td>0</td>\n",
       "      <td>0</td>\n",
       "      <td>0</td>\n",
       "      <td>0</td>\n",
       "      <td>0</td>\n",
       "      <td>1</td>\n",
       "      <td>0</td>\n",
       "      <td>0</td>\n",
       "      <td>0</td>\n",
       "      <td>...</td>\n",
       "      <td>0</td>\n",
       "      <td>0</td>\n",
       "      <td>0</td>\n",
       "      <td>0</td>\n",
       "      <td>0</td>\n",
       "      <td>0</td>\n",
       "      <td>0</td>\n",
       "      <td>0</td>\n",
       "      <td>0</td>\n",
       "      <td>0</td>\n",
       "    </tr>\n",
       "    <tr>\n",
       "      <th>4</th>\n",
       "      <td>0</td>\n",
       "      <td>0</td>\n",
       "      <td>0</td>\n",
       "      <td>0</td>\n",
       "      <td>0</td>\n",
       "      <td>0</td>\n",
       "      <td>1</td>\n",
       "      <td>0</td>\n",
       "      <td>0</td>\n",
       "      <td>0</td>\n",
       "      <td>...</td>\n",
       "      <td>0</td>\n",
       "      <td>0</td>\n",
       "      <td>0</td>\n",
       "      <td>0</td>\n",
       "      <td>0</td>\n",
       "      <td>0</td>\n",
       "      <td>0</td>\n",
       "      <td>0</td>\n",
       "      <td>0</td>\n",
       "      <td>0</td>\n",
       "    </tr>\n",
       "  </tbody>\n",
       "</table>\n",
       "<p>5 rows × 27 columns</p>\n",
       "</div>"
      ],
      "text/plain": [
       "   Country_Australia  Country_Brazil  Country_Canada  Country_India  \\\n",
       "0                  0               0               0              0   \n",
       "1                  0               0               0              0   \n",
       "2                  0               0               0              0   \n",
       "3                  0               0               0              0   \n",
       "4                  0               0               0              0   \n",
       "\n",
       "   Country_Indonesia  Country_New Zealand  Country_Phillipines  Country_Qatar  \\\n",
       "0                  0                    0                    1              0   \n",
       "1                  0                    0                    1              0   \n",
       "2                  0                    0                    1              0   \n",
       "3                  0                    0                    1              0   \n",
       "4                  0                    0                    1              0   \n",
       "\n",
       "   Country_Singapore  Country_South Africa  ...  Currency_Dollar($)  \\\n",
       "0                  0                     0  ...                   0   \n",
       "1                  0                     0  ...                   0   \n",
       "2                  0                     0  ...                   0   \n",
       "3                  0                     0  ...                   0   \n",
       "4                  0                     0  ...                   0   \n",
       "\n",
       "   Currency_Emirati Diram(AED)  Currency_Indian Rupees(Rs.)  \\\n",
       "0                            0                            0   \n",
       "1                            0                            0   \n",
       "2                            0                            0   \n",
       "3                            0                            0   \n",
       "4                            0                            0   \n",
       "\n",
       "   Currency_Indonesian Rupiah(IDR)  Currency_NewZealand($)  \\\n",
       "0                                0                       0   \n",
       "1                                0                       0   \n",
       "2                                0                       0   \n",
       "3                                0                       0   \n",
       "4                                0                       0   \n",
       "\n",
       "   Currency_Pounds(ÂÂ£)  Currency_Qatari Rial(QR)  Currency_Rand(R)  \\\n",
       "0                      0                         0                 0   \n",
       "1                      0                         0                 0   \n",
       "2                      0                         0                 0   \n",
       "3                      0                         0                 0   \n",
       "4                      0                         0                 0   \n",
       "\n",
       "   Currency_Sri Lankan Rupee(LKR)  Currency_Turkish Lira(TL)  \n",
       "0                               0                          0  \n",
       "1                               0                          0  \n",
       "2                               0                          0  \n",
       "3                               0                          0  \n",
       "4                               0                          0  \n",
       "\n",
       "[5 rows x 27 columns]"
      ]
     },
     "execution_count": 13,
     "metadata": {},
     "output_type": "execute_result"
    }
   ],
   "source": [
    "dummy_df = pd.get_dummies(final_df[['Country', 'Currency']])\n",
    "dummy_df.head()"
   ]
  },
  {
   "cell_type": "code",
   "execution_count": 14,
   "id": "51f51eb8",
   "metadata": {},
   "outputs": [
    {
     "data": {
      "text/plain": [
       "(9551, 27)"
      ]
     },
     "execution_count": 14,
     "metadata": {},
     "output_type": "execute_result"
    }
   ],
   "source": [
    "dummy_df.shape"
   ]
  },
  {
   "cell_type": "code",
   "execution_count": 15,
   "id": "340ddcb6",
   "metadata": {
    "scrolled": true
   },
   "outputs": [
    {
     "data": {
      "text/html": [
       "<div>\n",
       "<style scoped>\n",
       "    .dataframe tbody tr th:only-of-type {\n",
       "        vertical-align: middle;\n",
       "    }\n",
       "\n",
       "    .dataframe tbody tr th {\n",
       "        vertical-align: top;\n",
       "    }\n",
       "\n",
       "    .dataframe thead th {\n",
       "        text-align: right;\n",
       "    }\n",
       "</style>\n",
       "<table border=\"1\" class=\"dataframe\">\n",
       "  <thead>\n",
       "    <tr style=\"text-align: right;\">\n",
       "      <th></th>\n",
       "      <th>Country_Australia</th>\n",
       "      <th>Country_Brazil</th>\n",
       "      <th>Country_Canada</th>\n",
       "      <th>Country_India</th>\n",
       "      <th>Country_Indonesia</th>\n",
       "      <th>Country_New Zealand</th>\n",
       "      <th>Country_Phillipines</th>\n",
       "      <th>Country_Qatar</th>\n",
       "      <th>Country_Singapore</th>\n",
       "      <th>Country_South Africa</th>\n",
       "      <th>...</th>\n",
       "      <th>Currency_Turkish Lira(TL)</th>\n",
       "      <th>Country</th>\n",
       "      <th>Average Cost for two</th>\n",
       "      <th>Currency</th>\n",
       "      <th>Total_Cuisines</th>\n",
       "      <th>Has Table booking</th>\n",
       "      <th>Has Online delivery</th>\n",
       "      <th>Price range</th>\n",
       "      <th>Votes</th>\n",
       "      <th>Aggregate rating</th>\n",
       "    </tr>\n",
       "  </thead>\n",
       "  <tbody>\n",
       "    <tr>\n",
       "      <th>0</th>\n",
       "      <td>0</td>\n",
       "      <td>0</td>\n",
       "      <td>0</td>\n",
       "      <td>0</td>\n",
       "      <td>0</td>\n",
       "      <td>0</td>\n",
       "      <td>1</td>\n",
       "      <td>0</td>\n",
       "      <td>0</td>\n",
       "      <td>0</td>\n",
       "      <td>...</td>\n",
       "      <td>0</td>\n",
       "      <td>Phillipines</td>\n",
       "      <td>1100</td>\n",
       "      <td>Botswana Pula(P)</td>\n",
       "      <td>3</td>\n",
       "      <td>Yes</td>\n",
       "      <td>No</td>\n",
       "      <td>3</td>\n",
       "      <td>314</td>\n",
       "      <td>4.8</td>\n",
       "    </tr>\n",
       "    <tr>\n",
       "      <th>1</th>\n",
       "      <td>0</td>\n",
       "      <td>0</td>\n",
       "      <td>0</td>\n",
       "      <td>0</td>\n",
       "      <td>0</td>\n",
       "      <td>0</td>\n",
       "      <td>1</td>\n",
       "      <td>0</td>\n",
       "      <td>0</td>\n",
       "      <td>0</td>\n",
       "      <td>...</td>\n",
       "      <td>0</td>\n",
       "      <td>Phillipines</td>\n",
       "      <td>1200</td>\n",
       "      <td>Botswana Pula(P)</td>\n",
       "      <td>1</td>\n",
       "      <td>Yes</td>\n",
       "      <td>No</td>\n",
       "      <td>3</td>\n",
       "      <td>591</td>\n",
       "      <td>4.5</td>\n",
       "    </tr>\n",
       "    <tr>\n",
       "      <th>2</th>\n",
       "      <td>0</td>\n",
       "      <td>0</td>\n",
       "      <td>0</td>\n",
       "      <td>0</td>\n",
       "      <td>0</td>\n",
       "      <td>0</td>\n",
       "      <td>1</td>\n",
       "      <td>0</td>\n",
       "      <td>0</td>\n",
       "      <td>0</td>\n",
       "      <td>...</td>\n",
       "      <td>0</td>\n",
       "      <td>Phillipines</td>\n",
       "      <td>4000</td>\n",
       "      <td>Botswana Pula(P)</td>\n",
       "      <td>4</td>\n",
       "      <td>Yes</td>\n",
       "      <td>No</td>\n",
       "      <td>4</td>\n",
       "      <td>270</td>\n",
       "      <td>4.4</td>\n",
       "    </tr>\n",
       "    <tr>\n",
       "      <th>3</th>\n",
       "      <td>0</td>\n",
       "      <td>0</td>\n",
       "      <td>0</td>\n",
       "      <td>0</td>\n",
       "      <td>0</td>\n",
       "      <td>0</td>\n",
       "      <td>1</td>\n",
       "      <td>0</td>\n",
       "      <td>0</td>\n",
       "      <td>0</td>\n",
       "      <td>...</td>\n",
       "      <td>0</td>\n",
       "      <td>Phillipines</td>\n",
       "      <td>1500</td>\n",
       "      <td>Botswana Pula(P)</td>\n",
       "      <td>2</td>\n",
       "      <td>No</td>\n",
       "      <td>No</td>\n",
       "      <td>4</td>\n",
       "      <td>365</td>\n",
       "      <td>4.9</td>\n",
       "    </tr>\n",
       "    <tr>\n",
       "      <th>4</th>\n",
       "      <td>0</td>\n",
       "      <td>0</td>\n",
       "      <td>0</td>\n",
       "      <td>0</td>\n",
       "      <td>0</td>\n",
       "      <td>0</td>\n",
       "      <td>1</td>\n",
       "      <td>0</td>\n",
       "      <td>0</td>\n",
       "      <td>0</td>\n",
       "      <td>...</td>\n",
       "      <td>0</td>\n",
       "      <td>Phillipines</td>\n",
       "      <td>1500</td>\n",
       "      <td>Botswana Pula(P)</td>\n",
       "      <td>2</td>\n",
       "      <td>Yes</td>\n",
       "      <td>No</td>\n",
       "      <td>4</td>\n",
       "      <td>229</td>\n",
       "      <td>4.8</td>\n",
       "    </tr>\n",
       "  </tbody>\n",
       "</table>\n",
       "<p>5 rows × 36 columns</p>\n",
       "</div>"
      ],
      "text/plain": [
       "   Country_Australia  Country_Brazil  Country_Canada  Country_India  \\\n",
       "0                  0               0               0              0   \n",
       "1                  0               0               0              0   \n",
       "2                  0               0               0              0   \n",
       "3                  0               0               0              0   \n",
       "4                  0               0               0              0   \n",
       "\n",
       "   Country_Indonesia  Country_New Zealand  Country_Phillipines  Country_Qatar  \\\n",
       "0                  0                    0                    1              0   \n",
       "1                  0                    0                    1              0   \n",
       "2                  0                    0                    1              0   \n",
       "3                  0                    0                    1              0   \n",
       "4                  0                    0                    1              0   \n",
       "\n",
       "   Country_Singapore  Country_South Africa  ...  Currency_Turkish Lira(TL)  \\\n",
       "0                  0                     0  ...                          0   \n",
       "1                  0                     0  ...                          0   \n",
       "2                  0                     0  ...                          0   \n",
       "3                  0                     0  ...                          0   \n",
       "4                  0                     0  ...                          0   \n",
       "\n",
       "       Country  Average Cost for two          Currency  Total_Cuisines  \\\n",
       "0  Phillipines                  1100  Botswana Pula(P)               3   \n",
       "1  Phillipines                  1200  Botswana Pula(P)               1   \n",
       "2  Phillipines                  4000  Botswana Pula(P)               4   \n",
       "3  Phillipines                  1500  Botswana Pula(P)               2   \n",
       "4  Phillipines                  1500  Botswana Pula(P)               2   \n",
       "\n",
       "   Has Table booking  Has Online delivery  Price range  Votes  \\\n",
       "0                Yes                   No            3    314   \n",
       "1                Yes                   No            3    591   \n",
       "2                Yes                   No            4    270   \n",
       "3                 No                   No            4    365   \n",
       "4                Yes                   No            4    229   \n",
       "\n",
       "   Aggregate rating  \n",
       "0               4.8  \n",
       "1               4.5  \n",
       "2               4.4  \n",
       "3               4.9  \n",
       "4               4.8  \n",
       "\n",
       "[5 rows x 36 columns]"
      ]
     },
     "execution_count": 15,
     "metadata": {},
     "output_type": "execute_result"
    }
   ],
   "source": [
    "final_df = pd.concat([dummy_df, final_df], axis=1)\n",
    "final_df.head()"
   ]
  },
  {
   "cell_type": "code",
   "execution_count": 16,
   "id": "76ffd63a",
   "metadata": {},
   "outputs": [
    {
     "data": {
      "text/plain": [
       "(9551, 36)"
      ]
     },
     "execution_count": 16,
     "metadata": {},
     "output_type": "execute_result"
    }
   ],
   "source": [
    "final_df.shape"
   ]
  },
  {
   "cell_type": "code",
   "execution_count": 17,
   "id": "c7e18f5a",
   "metadata": {
    "scrolled": true
   },
   "outputs": [],
   "source": [
    "final_df.drop(['Country', 'Currency'], axis=1, inplace=True)"
   ]
  },
  {
   "cell_type": "code",
   "execution_count": 18,
   "id": "c15c279f",
   "metadata": {},
   "outputs": [
    {
     "data": {
      "text/plain": [
       "(9551, 34)"
      ]
     },
     "execution_count": 18,
     "metadata": {},
     "output_type": "execute_result"
    }
   ],
   "source": [
    "final_df.shape"
   ]
  },
  {
   "cell_type": "code",
   "execution_count": 19,
   "id": "ada7a465",
   "metadata": {},
   "outputs": [
    {
     "data": {
      "text/html": [
       "<div>\n",
       "<style scoped>\n",
       "    .dataframe tbody tr th:only-of-type {\n",
       "        vertical-align: middle;\n",
       "    }\n",
       "\n",
       "    .dataframe tbody tr th {\n",
       "        vertical-align: top;\n",
       "    }\n",
       "\n",
       "    .dataframe thead th {\n",
       "        text-align: right;\n",
       "    }\n",
       "</style>\n",
       "<table border=\"1\" class=\"dataframe\">\n",
       "  <thead>\n",
       "    <tr style=\"text-align: right;\">\n",
       "      <th></th>\n",
       "      <th>Country_Australia</th>\n",
       "      <th>Country_Brazil</th>\n",
       "      <th>Country_Canada</th>\n",
       "      <th>Country_India</th>\n",
       "      <th>Country_Indonesia</th>\n",
       "      <th>Country_New Zealand</th>\n",
       "      <th>Country_Phillipines</th>\n",
       "      <th>Country_Qatar</th>\n",
       "      <th>Country_Singapore</th>\n",
       "      <th>Country_South Africa</th>\n",
       "      <th>...</th>\n",
       "      <th>Currency_Rand(R)</th>\n",
       "      <th>Currency_Sri Lankan Rupee(LKR)</th>\n",
       "      <th>Currency_Turkish Lira(TL)</th>\n",
       "      <th>Average Cost for two</th>\n",
       "      <th>Total_Cuisines</th>\n",
       "      <th>Has Table booking</th>\n",
       "      <th>Has Online delivery</th>\n",
       "      <th>Price range</th>\n",
       "      <th>Votes</th>\n",
       "      <th>Aggregate rating</th>\n",
       "    </tr>\n",
       "  </thead>\n",
       "  <tbody>\n",
       "    <tr>\n",
       "      <th>0</th>\n",
       "      <td>0</td>\n",
       "      <td>0</td>\n",
       "      <td>0</td>\n",
       "      <td>0</td>\n",
       "      <td>0</td>\n",
       "      <td>0</td>\n",
       "      <td>1</td>\n",
       "      <td>0</td>\n",
       "      <td>0</td>\n",
       "      <td>0</td>\n",
       "      <td>...</td>\n",
       "      <td>0</td>\n",
       "      <td>0</td>\n",
       "      <td>0</td>\n",
       "      <td>1100</td>\n",
       "      <td>3</td>\n",
       "      <td>1</td>\n",
       "      <td>0</td>\n",
       "      <td>3</td>\n",
       "      <td>314</td>\n",
       "      <td>4.8</td>\n",
       "    </tr>\n",
       "    <tr>\n",
       "      <th>1</th>\n",
       "      <td>0</td>\n",
       "      <td>0</td>\n",
       "      <td>0</td>\n",
       "      <td>0</td>\n",
       "      <td>0</td>\n",
       "      <td>0</td>\n",
       "      <td>1</td>\n",
       "      <td>0</td>\n",
       "      <td>0</td>\n",
       "      <td>0</td>\n",
       "      <td>...</td>\n",
       "      <td>0</td>\n",
       "      <td>0</td>\n",
       "      <td>0</td>\n",
       "      <td>1200</td>\n",
       "      <td>1</td>\n",
       "      <td>1</td>\n",
       "      <td>0</td>\n",
       "      <td>3</td>\n",
       "      <td>591</td>\n",
       "      <td>4.5</td>\n",
       "    </tr>\n",
       "    <tr>\n",
       "      <th>2</th>\n",
       "      <td>0</td>\n",
       "      <td>0</td>\n",
       "      <td>0</td>\n",
       "      <td>0</td>\n",
       "      <td>0</td>\n",
       "      <td>0</td>\n",
       "      <td>1</td>\n",
       "      <td>0</td>\n",
       "      <td>0</td>\n",
       "      <td>0</td>\n",
       "      <td>...</td>\n",
       "      <td>0</td>\n",
       "      <td>0</td>\n",
       "      <td>0</td>\n",
       "      <td>4000</td>\n",
       "      <td>4</td>\n",
       "      <td>1</td>\n",
       "      <td>0</td>\n",
       "      <td>4</td>\n",
       "      <td>270</td>\n",
       "      <td>4.4</td>\n",
       "    </tr>\n",
       "    <tr>\n",
       "      <th>3</th>\n",
       "      <td>0</td>\n",
       "      <td>0</td>\n",
       "      <td>0</td>\n",
       "      <td>0</td>\n",
       "      <td>0</td>\n",
       "      <td>0</td>\n",
       "      <td>1</td>\n",
       "      <td>0</td>\n",
       "      <td>0</td>\n",
       "      <td>0</td>\n",
       "      <td>...</td>\n",
       "      <td>0</td>\n",
       "      <td>0</td>\n",
       "      <td>0</td>\n",
       "      <td>1500</td>\n",
       "      <td>2</td>\n",
       "      <td>0</td>\n",
       "      <td>0</td>\n",
       "      <td>4</td>\n",
       "      <td>365</td>\n",
       "      <td>4.9</td>\n",
       "    </tr>\n",
       "    <tr>\n",
       "      <th>4</th>\n",
       "      <td>0</td>\n",
       "      <td>0</td>\n",
       "      <td>0</td>\n",
       "      <td>0</td>\n",
       "      <td>0</td>\n",
       "      <td>0</td>\n",
       "      <td>1</td>\n",
       "      <td>0</td>\n",
       "      <td>0</td>\n",
       "      <td>0</td>\n",
       "      <td>...</td>\n",
       "      <td>0</td>\n",
       "      <td>0</td>\n",
       "      <td>0</td>\n",
       "      <td>1500</td>\n",
       "      <td>2</td>\n",
       "      <td>1</td>\n",
       "      <td>0</td>\n",
       "      <td>4</td>\n",
       "      <td>229</td>\n",
       "      <td>4.8</td>\n",
       "    </tr>\n",
       "  </tbody>\n",
       "</table>\n",
       "<p>5 rows × 34 columns</p>\n",
       "</div>"
      ],
      "text/plain": [
       "   Country_Australia  Country_Brazil  Country_Canada  Country_India  \\\n",
       "0                  0               0               0              0   \n",
       "1                  0               0               0              0   \n",
       "2                  0               0               0              0   \n",
       "3                  0               0               0              0   \n",
       "4                  0               0               0              0   \n",
       "\n",
       "   Country_Indonesia  Country_New Zealand  Country_Phillipines  Country_Qatar  \\\n",
       "0                  0                    0                    1              0   \n",
       "1                  0                    0                    1              0   \n",
       "2                  0                    0                    1              0   \n",
       "3                  0                    0                    1              0   \n",
       "4                  0                    0                    1              0   \n",
       "\n",
       "   Country_Singapore  Country_South Africa  ...  Currency_Rand(R)  \\\n",
       "0                  0                     0  ...                 0   \n",
       "1                  0                     0  ...                 0   \n",
       "2                  0                     0  ...                 0   \n",
       "3                  0                     0  ...                 0   \n",
       "4                  0                     0  ...                 0   \n",
       "\n",
       "   Currency_Sri Lankan Rupee(LKR)  Currency_Turkish Lira(TL)  \\\n",
       "0                               0                          0   \n",
       "1                               0                          0   \n",
       "2                               0                          0   \n",
       "3                               0                          0   \n",
       "4                               0                          0   \n",
       "\n",
       "   Average Cost for two  Total_Cuisines  Has Table booking  \\\n",
       "0                  1100               3                  1   \n",
       "1                  1200               1                  1   \n",
       "2                  4000               4                  1   \n",
       "3                  1500               2                  0   \n",
       "4                  1500               2                  1   \n",
       "\n",
       "   Has Online delivery  Price range  Votes  Aggregate rating  \n",
       "0                    0            3    314               4.8  \n",
       "1                    0            3    591               4.5  \n",
       "2                    0            4    270               4.4  \n",
       "3                    0            4    365               4.9  \n",
       "4                    0            4    229               4.8  \n",
       "\n",
       "[5 rows x 34 columns]"
      ]
     },
     "execution_count": 19,
     "metadata": {},
     "output_type": "execute_result"
    }
   ],
   "source": [
    "final_df['Has Table booking'] = final_df['Has Table booking'].map({'Yes': 1, 'No': 0})\n",
    "final_df['Has Online delivery'] = final_df['Has Online delivery'].map({'Yes': 1, 'No': 0})\n",
    "\n",
    "final_df.head()"
   ]
  },
  {
   "cell_type": "code",
   "execution_count": 20,
   "id": "eb0830b4",
   "metadata": {},
   "outputs": [
    {
     "data": {
      "text/plain": [
       "Country_Australia                    uint8\n",
       "Country_Brazil                       uint8\n",
       "Country_Canada                       uint8\n",
       "Country_India                        uint8\n",
       "Country_Indonesia                    uint8\n",
       "Country_New Zealand                  uint8\n",
       "Country_Phillipines                  uint8\n",
       "Country_Qatar                        uint8\n",
       "Country_Singapore                    uint8\n",
       "Country_South Africa                 uint8\n",
       "Country_Sri Lanka                    uint8\n",
       "Country_Turkey                       uint8\n",
       "Country_UAE                          uint8\n",
       "Country_United Kingdom               uint8\n",
       "Country_United States                uint8\n",
       "Currency_Botswana Pula(P)            uint8\n",
       "Currency_Brazilian Real(R$)          uint8\n",
       "Currency_Dollar($)                   uint8\n",
       "Currency_Emirati Diram(AED)          uint8\n",
       "Currency_Indian Rupees(Rs.)          uint8\n",
       "Currency_Indonesian Rupiah(IDR)      uint8\n",
       "Currency_NewZealand($)               uint8\n",
       "Currency_Pounds(ÂÂ£)                uint8\n",
       "Currency_Qatari Rial(QR)             uint8\n",
       "Currency_Rand(R)                     uint8\n",
       "Currency_Sri Lankan Rupee(LKR)       uint8\n",
       "Currency_Turkish Lira(TL)            uint8\n",
       "Average Cost for two                 int64\n",
       "Total_Cuisines                       int64\n",
       "Has Table booking                    int64\n",
       "Has Online delivery                  int64\n",
       "Price range                          int64\n",
       "Votes                                int64\n",
       "Aggregate rating                   float64\n",
       "dtype: object"
      ]
     },
     "execution_count": 20,
     "metadata": {},
     "output_type": "execute_result"
    }
   ],
   "source": [
    "final_df.dtypes"
   ]
  },
  {
   "cell_type": "code",
   "execution_count": 21,
   "id": "ee8b7daa",
   "metadata": {},
   "outputs": [],
   "source": [
    "X = final_df.drop('Aggregate rating', axis=1)\n",
    "y = final_df['Aggregate rating']"
   ]
  },
  {
   "cell_type": "code",
   "execution_count": 22,
   "id": "88fa63fd",
   "metadata": {},
   "outputs": [],
   "source": [
    "from sklearn.model_selection import train_test_split\n",
    "X_train, X_test, y_train, y_test = train_test_split(X, y, test_size=0.2, random_state=42)"
   ]
  },
  {
   "cell_type": "code",
   "execution_count": 23,
   "id": "36b600d3",
   "metadata": {},
   "outputs": [
    {
     "data": {
      "text/plain": [
       "((7640, 33), (1911, 33))"
      ]
     },
     "execution_count": 23,
     "metadata": {},
     "output_type": "execute_result"
    }
   ],
   "source": [
    "X_train.shape, X_test.shape"
   ]
  },
  {
   "cell_type": "code",
   "execution_count": 24,
   "id": "40a9ad91",
   "metadata": {},
   "outputs": [],
   "source": [
    "from sklearn.preprocessing import StandardScaler\n",
    "scaler = StandardScaler()\n",
    "\n",
    "X_train = scaler.fit_transform(X_train)\n",
    "X_test = scaler.transform(X_test)"
   ]
  },
  {
   "cell_type": "code",
   "execution_count": 25,
   "id": "e6f3120b",
   "metadata": {},
   "outputs": [
    {
     "data": {
      "text/plain": [
       "array([[-0.04859614, -0.07867599, -0.01144147, ..., -0.58662071,\n",
       "         1.3159881 , -0.23251182],\n",
       "       [-0.04859614, -0.07867599, -0.01144147, ..., -0.58662071,\n",
       "        -0.89298676, -0.35448121],\n",
       "       [-0.04859614, -0.07867599, -0.01144147, ..., -0.58662071,\n",
       "        -0.89298676, -0.36386347],\n",
       "       ...,\n",
       "       [-0.04859614, -0.07867599, -0.01144147, ..., -0.58662071,\n",
       "        -0.89298676, -0.36386347],\n",
       "       [-0.04859614, -0.07867599, -0.01144147, ..., -0.58662071,\n",
       "         2.42047553, -0.20905617],\n",
       "       [-0.04859614, -0.07867599, -0.01144147, ...,  1.70467899,\n",
       "         0.21150067,  0.09352174]])"
      ]
     },
     "execution_count": 25,
     "metadata": {},
     "output_type": "execute_result"
    }
   ],
   "source": [
    "X_train"
   ]
  },
  {
   "cell_type": "code",
   "execution_count": 26,
   "id": "ed1b6977",
   "metadata": {
    "scrolled": true
   },
   "outputs": [
    {
     "data": {
      "text/plain": [
       "array([[-0.04859614, -0.07867599, -0.01144147, ..., -0.58662071,\n",
       "        -0.89298676, -0.23720295],\n",
       "       [-0.04859614, -0.07867599, -0.01144147, ...,  1.70467899,\n",
       "         0.21150067, -0.166836  ],\n",
       "       [-0.04859614, -0.07867599, -0.01144147, ..., -0.58662071,\n",
       "         0.21150067, -0.27942313],\n",
       "       ...,\n",
       "       [-0.04859614, -0.07867599, -0.01144147, ..., -0.58662071,\n",
       "         0.21150067, -0.34040782],\n",
       "       [-0.04859614, -0.07867599, -0.01144147, ..., -0.58662071,\n",
       "         1.3159881 ,  0.41955529],\n",
       "       [-0.04859614, -0.07867599, -0.01144147, ..., -0.58662071,\n",
       "         1.3159881 ,  0.64003842]])"
      ]
     },
     "execution_count": 26,
     "metadata": {},
     "output_type": "execute_result"
    }
   ],
   "source": [
    "X_test"
   ]
  },
  {
   "cell_type": "markdown",
   "id": "94bd1e84",
   "metadata": {},
   "source": [
    "# Model Training"
   ]
  },
  {
   "cell_type": "code",
   "execution_count": 27,
   "id": "64b560f8",
   "metadata": {},
   "outputs": [],
   "source": [
    "from sklearn.model_selection import RandomizedSearchCV\n",
    "from sklearn.tree import DecisionTreeRegressor\n",
    "from sklearn.svm import SVR\n",
    "from sklearn.neighbors import KNeighborsRegressor"
   ]
  },
  {
   "cell_type": "code",
   "execution_count": 28,
   "id": "a78fc1ad",
   "metadata": {},
   "outputs": [
    {
     "name": "stdout",
     "output_type": "stream",
     "text": [
      "Best hyperparameters: {'min_samples_split': 17, 'min_samples_leaf': 2, 'max_features': None, 'max_depth': 5}\n",
      "Best score: 0.9480479980811177\n"
     ]
    }
   ],
   "source": [
    "# Define the model\n",
    "model = DecisionTreeRegressor()\n",
    "\n",
    "# Define the hyperparameter space to search\n",
    "param_distributions = {\n",
    "    \"max_depth\": [None, 1, 2, 3, 4, 5],\n",
    "    \"min_samples_split\": np.arange(2, 21),\n",
    "    \"min_samples_leaf\": np.arange(1, 21),\n",
    "    \"max_features\": [None, \"sqrt\", \"log2\"]\n",
    "}\n",
    "\n",
    "# Define the randomized search\n",
    "random_search = RandomizedSearchCV(\n",
    "    model,\n",
    "    param_distributions=param_distributions,\n",
    "    n_iter=10,\n",
    "    cv=5,\n",
    "    random_state=42\n",
    ")\n",
    "\n",
    "# Perform the search\n",
    "random_search.fit(X_train, y_train)\n",
    "\n",
    "# Print the best hyperparameters\n",
    "print(\"Best hyperparameters:\", random_search.best_params_)\n",
    "\n",
    "# Print the best score\n",
    "print(\"Best score:\", random_search.best_score_)"
   ]
  },
  {
   "cell_type": "code",
   "execution_count": 29,
   "id": "b7487ec4",
   "metadata": {},
   "outputs": [
    {
     "data": {
      "text/plain": [
       "array([3.22946429, 3.22946429, 3.22946429, ..., 2.96398305, 3.81011029,\n",
       "       4.32241379])"
      ]
     },
     "execution_count": 29,
     "metadata": {},
     "output_type": "execute_result"
    }
   ],
   "source": [
    "random_search.predict(X_test)"
   ]
  },
  {
   "cell_type": "code",
   "execution_count": 30,
   "id": "63654351",
   "metadata": {},
   "outputs": [
    {
     "data": {
      "text/plain": [
       "array([2.1, 4.1, 3.2, ..., 3.1, 4.2, 4.3])"
      ]
     },
     "execution_count": 30,
     "metadata": {},
     "output_type": "execute_result"
    }
   ],
   "source": [
    "np.array(y_test)"
   ]
  },
  {
   "cell_type": "code",
   "execution_count": 31,
   "id": "d69d9fe4",
   "metadata": {},
   "outputs": [
    {
     "data": {
      "text/plain": [
       "0.9501736276224043"
      ]
     },
     "execution_count": 31,
     "metadata": {},
     "output_type": "execute_result"
    }
   ],
   "source": [
    "random_search.score(X_test, y_test)"
   ]
  },
  {
   "cell_type": "code",
   "execution_count": 32,
   "id": "53897472",
   "metadata": {
    "scrolled": false
   },
   "outputs": [
    {
     "name": "stdout",
     "output_type": "stream",
     "text": [
      "Best hyperparameters: {'kernel': 'rbf', 'C': 20}\n",
      "Best score: 0.37049860999953826\n"
     ]
    }
   ],
   "source": [
    "# Define the model\n",
    "model = SVR()\n",
    "\n",
    "# Define the hyperparameter space to search\n",
    "param_distributions = {\n",
    "    \"C\": [1, 5, 10, 5, 20],\n",
    "    \"kernel\": [\"linear\", \"rbf\", \"poly\", \"sigmoid\"]\n",
    "}\n",
    "\n",
    "# Define the randomized search\n",
    "random_search = RandomizedSearchCV(\n",
    "    model,\n",
    "    param_distributions=param_distributions,\n",
    "    n_iter=4,\n",
    "    cv=5,\n",
    "    random_state=42\n",
    ")\n",
    "\n",
    "# Perform the search\n",
    "random_search.fit(X_train, y_train)\n",
    "\n",
    "# Print the best hyperparameters\n",
    "print(\"Best hyperparameters:\", random_search.best_params_)\n",
    "\n",
    "# Print the best score\n",
    "print(\"Best score:\", random_search.best_score_)"
   ]
  },
  {
   "cell_type": "code",
   "execution_count": 33,
   "id": "f631f5fb",
   "metadata": {},
   "outputs": [
    {
     "data": {
      "text/plain": [
       "0.41159638995936576"
      ]
     },
     "execution_count": 33,
     "metadata": {},
     "output_type": "execute_result"
    }
   ],
   "source": [
    "random_search.score(X_test, y_test)"
   ]
  },
  {
   "cell_type": "code",
   "execution_count": 34,
   "id": "4c87de6d",
   "metadata": {},
   "outputs": [
    {
     "name": "stdout",
     "output_type": "stream",
     "text": [
      "Best hyperparameters: {'weights': 'distance', 'p': 1, 'n_neighbors': 7, 'leaf_size': 43, 'algorithm': 'brute'}\n",
      "Best score: 0.9173422136827737\n"
     ]
    }
   ],
   "source": [
    "# Define the model\n",
    "model = KNeighborsRegressor()\n",
    "\n",
    "# Define the hyperparameter space to search\n",
    "param_distributions = {\n",
    "    \"n_neighbors\": range(1, 11),\n",
    "    \"weights\": [\"uniform\", \"distance\"],\n",
    "    \"algorithm\": [\"auto\", \"ball_tree\", \"kd_tree\", \"brute\"],\n",
    "    \"p\": [1, 2],\n",
    "    \"leaf_size\": range(10, 51)\n",
    "}\n",
    "\n",
    "# Define the randomized search\n",
    "random_search = RandomizedSearchCV(\n",
    "    model,\n",
    "    param_distributions=param_distributions,\n",
    "    n_iter=10,\n",
    "    cv=5,\n",
    "    random_state=42\n",
    ")\n",
    "\n",
    "# Perform the search\n",
    "random_search.fit(X_train, y_train)\n",
    "\n",
    "# Print the best hyperparameters\n",
    "print(\"Best hyperparameters:\", random_search.best_params_)\n",
    "\n",
    "# Print the best score\n",
    "print(\"Best score:\", random_search.best_score_)\n"
   ]
  },
  {
   "cell_type": "code",
   "execution_count": 35,
   "id": "20ff0ca7",
   "metadata": {
    "scrolled": true
   },
   "outputs": [
    {
     "data": {
      "text/plain": [
       "0.9103349444775424"
      ]
     },
     "execution_count": 35,
     "metadata": {},
     "output_type": "execute_result"
    }
   ],
   "source": [
    "random_search.score(X_test, y_test)"
   ]
  },
  {
   "cell_type": "markdown",
   "id": "b9d9de49",
   "metadata": {},
   "source": [
    "# Observation :  Decision tree is working better."
   ]
  }
 ],
 "metadata": {
  "kernelspec": {
   "display_name": "Python 3 (ipykernel)",
   "language": "python",
   "name": "python3"
  },
  "language_info": {
   "codemirror_mode": {
    "name": "ipython",
    "version": 3
   },
   "file_extension": ".py",
   "mimetype": "text/x-python",
   "name": "python",
   "nbconvert_exporter": "python",
   "pygments_lexer": "ipython3",
   "version": "3.10.2"
  }
 },
 "nbformat": 4,
 "nbformat_minor": 5
}
